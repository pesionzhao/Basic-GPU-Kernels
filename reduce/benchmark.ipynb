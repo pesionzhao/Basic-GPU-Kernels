{
 "cells": [
  {
   "cell_type": "code",
   "execution_count": 1,
   "metadata": {},
   "outputs": [],
   "source": [
    "import torch\n",
    "import triton\n",
    "import triton.language as tl\n",
    "import my_cuda_ops"
   ]
  },
  {
   "cell_type": "code",
   "execution_count": 20,
   "metadata": {},
   "outputs": [],
   "source": [
    "# add by cuda\n",
    "def reduce_cuda(x: torch.Tensor):\n",
    "    # We need to preallocate the output.\n",
    "    assert x.is_cuda\n",
    "    N = x.shape[0]\n",
    "    output = torch.empty(1, dtype=x.dtype, layout=x.layout, device=x.device)\n",
    "    # 创建输出张量\n",
    "    my_cuda_ops.sum(x, output, N, 1)\n",
    "    return output"
   ]
  },
  {
   "cell_type": "code",
   "execution_count": null,
   "metadata": {},
   "outputs": [],
   "source": [
    "@triton.jit\n",
    "def reduce_sum_kernel(\n",
    "        input_ptr,  # 第一个向量的指针\n",
    "        output_ptr,  # 输出向量的指针\n",
    "        n_elements,  # 向量的大小\n",
    "        BLOCK_SIZE: tl.constexpr,  # 每个 block 的大小\n",
    "):\n",
    "    # 只有一个block\n",
    "    offsets = tl.arange(0, BLOCK_SIZE)\n",
    "\n",
    "    # 创建一个掩码以防止越界访问\n",
    "    mask = offsets < n_elements\n",
    "\n",
    "    # 从全局内存加载数据\n",
    "    x = tl.load(input_ptr + offsets, mask=mask, other=0.0)\n",
    "    output = tl.sum(x, axis=0)\n",
    "    # 将结果存储回全局内存\n",
    "    if tl.program_id(0) == 0:\n",
    "        tl.store(output_ptr, output)\n",
    "    # tl.store(output_ptr + offsets, output, mask=mask)\n",
    "\n",
    "def reduce_sum(x: torch.Tensor):\n",
    "    assert x.is_cuda\n",
    "    n_elements = x.numel()\n",
    "    BLOCK_SIZE = triton.next_power_of_2(n_elements) # 上限貌似是65536，再高会降速， 比1048576高会报错，内存溢出\n",
    "\n",
    "    # 输出只有一个元素\n",
    "    output = torch.empty(1, device='cuda', dtype=torch.float32)\n",
    "\n",
    "    reduce_sum_kernel[(1,)](x, output, n_elements, BLOCK_SIZE=BLOCK_SIZE)\n",
    "\n",
    "    return output\n",
    "\n",
    "# 如果向量长度太长，需要进行分块循环\n",
    "# @triton.autotune(\n",
    "#     configs=[\n",
    "#         triton.Config({'BLOCK_SIZE': 1024},  num_warps=4,  num_stages=2),\n",
    "#         triton.Config({'BLOCK_SIZE': 2048},  num_warps=8,  num_stages=3),\n",
    "#         triton.Config({'BLOCK_SIZE': 4096}, num_warps=16, num_stages=4),\n",
    "#     ],\n",
    "#     key=['n_elements']\n",
    "# )\n",
    "# @triton.jit\n",
    "# def reduce_sum_kernel(\n",
    "#         input_ptr,  # 第一个向量的指针\n",
    "#         output_ptr,  # 输出向量的指针\n",
    "#         n_elements,  # 向量的大小\n",
    "#         BLOCK_SIZE: tl.constexpr,  # 每个 block 的大小\n",
    "# ):\n",
    "#     # 一行的元素数量 N 一般远超 BLOCK_SIZE，故需要对 N 进行分块计算\n",
    "#     sum = 0\n",
    "#     _sum= tl.zeros([BLOCK_SIZE], dtype=tl.float32)\n",
    "#     for off in tl.range(0, n_elements, BLOCK_SIZE):\n",
    "#         # 创建一个掩码以防止越界访问\n",
    "#         offsets = off + tl.arange(0, BLOCK_SIZE)\n",
    "#         mask = offsets < n_elements\n",
    "\n",
    "#         # 从全局内存加载数据\n",
    "#         x = tl.load(input_ptr + offsets, mask=mask, other=0.0)\n",
    "#         _sum += x\n",
    "#         # 将结果存储回全局内存\n",
    "#     sum = tl.sum(_sum, axis=0)\n",
    "#     if tl.program_id(0) == 0:\n",
    "#         tl.store(output_ptr, sum)\n",
    "#     # tl.store(output_ptr + offsets, output, mask=mask)\n",
    "\n",
    "# def reduce_sum(x: torch.Tensor):\n",
    "#     assert x.is_cuda\n",
    "#     n_elements = x.numel()\n",
    "#     # BLOCK_SIZE = triton.next_power_of_2(n_elements)\n",
    "\n",
    "#     # 输出只有一个元素\n",
    "#     output = torch.empty(1, device='cuda', dtype=torch.float32)\n",
    "\n",
    "#     # 启动 grid\n",
    "#     # grid = lambda meta: (1,)  # 这里只用一个线程块\n",
    "#     reduce_sum_kernel[(1,)](x, output, n_elements)\n",
    "\n",
    "#     return output.item()"
   ]
  },
  {
   "cell_type": "code",
   "execution_count": 76,
   "metadata": {},
   "outputs": [
    {
     "name": "stdout",
     "output_type": "stream",
     "text": [
      "torch.Size([4096])\n",
      "tensor(2055.7622, device='cuda:0')\n",
      "tensor([2055.7622], device='cuda:0')\n",
      "The maximum difference between torch and triton is 0.0\n",
      "The maximum difference between torch and cuda is 0.0\n"
     ]
    }
   ],
   "source": [
    "# We can now use the above function to compute the element-wise sum of two `torch.tensor` objects and test its correctness:\n",
    "torch.manual_seed(0)\n",
    "x = torch.rand(4096, device='cuda')\n",
    "print(x.shape)\n",
    "output_torch = torch.sum(x, dim=0)\n",
    "output_cuda = reduce_cuda(x)\n",
    "output_triton = reduce_sum(x)\n",
    "print(output_torch)\n",
    "print(output_cuda)\n",
    "print(f'The maximum difference between torch and triton is '\n",
    "      f'{torch.max(torch.abs(output_torch - output_triton))}')\n",
    "print(f'The maximum difference between torch and cuda is '\n",
    "      f'{torch.max(torch.abs(output_torch - output_cuda))}')"
   ]
  },
  {
   "cell_type": "code",
   "execution_count": 78,
   "metadata": {},
   "outputs": [],
   "source": [
    "@triton.testing.perf_report(\n",
    "    triton.testing.Benchmark(\n",
    "        x_names=['size'],  # Argument names to use as an x-axis for the plot.\n",
    "        x_vals=[2**i for i in range(12, 21, 1)],  # Different possible values for `x_name`.\n",
    "        x_log=True,  # x axis is logarithmic.\n",
    "        line_arg='provider',  # Argument name whose value corresponds to a different line in the plot.\n",
    "        line_vals=['triton', 'torch', 'cuda'],  # Possible values for `line_arg`.\n",
    "        line_names=['Triton', 'Torch', 'CUDA'],  # Label name for the lines.\n",
    "        styles=[('blue', '-'), ('green', '-'), ('red', '-')],  # Line styles.\n",
    "        ylabel='GB/s',  # Label name for the y-axis.\n",
    "        plot_name='vector-add-performance',  # Name for the plot. Used also as a file name for saving the plot.\n",
    "        args={},  # Values for function arguments not in `x_names` and `y_name`.\n",
    "    ))\n",
    "def benchmark(size, provider):\n",
    "    x = torch.rand(size, device='cuda', dtype=torch.float32)\n",
    "    quantiles = [0.5, 0.2, 0.8]\n",
    "    if provider == 'torch':\n",
    "        ms, min_ms, max_ms = triton.testing.do_bench(lambda: torch.sum(x, dim=0), quantiles=quantiles)\n",
    "    if provider == 'triton':\n",
    "        ms, min_ms, max_ms = triton.testing.do_bench(lambda: reduce_sum(x), quantiles=quantiles)\n",
    "    if provider == 'cuda':\n",
    "        ms, min_ms, max_ms = triton.testing.do_bench(lambda: reduce_cuda(x), quantiles=quantiles)\n",
    "    gbps = lambda ms : 3 * x.numel() * x.element_size() * 1e-9 / (ms * 1e-3)\n",
    "    return gbps(ms), gbps(max_ms), gbps(min_ms)"
   ]
  },
  {
   "cell_type": "code",
   "execution_count": 81,
   "metadata": {},
   "outputs": [
    {
     "data": {
      "image/png": "[encoded data removed]",
      "text/plain": [
       "<Figure size 640x480 with 1 Axes>"
      ]
     },
     "metadata": {},
     "output_type": "display_data"
    },
    {
     "name": "stdout",
     "output_type": "stream",
     "text": [
      "vector-add-performance:\n",
      "        size     Triton       Torch      CUDA\n",
      "0     4096.0   7.384615    6.000000  0.413793\n",
      "1     8192.0  15.999999   13.714286  0.868778\n",
      "2    16384.0  31.999999   24.000000  1.276543\n",
      "3    32768.0  44.928704   34.909091  1.538500\n",
      "4    65536.0  63.999998   48.000000  1.846154\n",
      "5   131072.0  80.842109  139.636363  2.152768\n",
      "6   262144.0  24.774194  255.999991  2.240700\n",
      "7   524288.0  42.372414  361.411758  2.382319\n",
      "8  1048576.0  41.513512  511.999982  2.271349\n"
     ]
    }
   ],
   "source": [
    "benchmark.run(print_data=True, show_plots=True)"
   ]
  }
 ],
 "metadata": {
  "kernelspec": {
   "display_name": "base",
   "language": "python",
   "name": "python3"
  },
  "language_info": {
   "codemirror_mode": {
    "name": "ipython",
    "version": 3
   },
   "file_extension": ".py",
   "mimetype": "text/x-python",
   "name": "python",
   "nbconvert_exporter": "python",
   "pygments_lexer": "ipython3",
   "version": "3.11.9"
  }
 },
 "nbformat": 4,
 "nbformat_minor": 2
}
